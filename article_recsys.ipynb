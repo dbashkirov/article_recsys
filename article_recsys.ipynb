{\rtf1\ansi\ansicpg1251\cocoartf2639
\cocoatextscaling0\cocoaplatform0{\fonttbl\f0\fmodern\fcharset0 Courier;\f1\fnil\fcharset0 Menlo-Regular;}
{\colortbl;\red255\green255\blue255;\red0\green0\blue0;}
{\*\expandedcolortbl;;\cssrgb\c0\c0\c0;}
\paperw11900\paperh16840\margl1440\margr1440\vieww28600\viewh17440\viewkind0
\deftab720
\pard\pardeftab720\partightenfactor0

\f0\fs26 \cf0 \expnd0\expndtw0\kerning0
\{\
  "nbformat": 4,\
  "nbformat_minor": 0,\
  "metadata": \{\
    "colab": \{\
      "name": "Article RecSys.ipynb",\
      "provenance": [],\
      "collapsed_sections": []\
    \},\
    "kernelspec": \{\
      "name": "python3",\
      "display_name": "Python 3"\
    \},\
    "accelerator": "GPU",\
    "widgets": \{\
      "application/vnd.jupyter.widget-state+json": \{\
        "1f4258d79df74660b498b9946078444a": \{\
          "model_module": "@jupyter-widgets/controls",\
          "model_name": "HBoxModel",\
          "state": \{\
            "_view_name": "HBoxView",\
            "_dom_classes": [],\
            "_model_name": "HBoxModel",\
            "_view_module": "@jupyter-widgets/controls",\
            "_model_module_version": "1.5.0",\
            "_view_count": null,\
            "_view_module_version": "1.5.0",\
            "box_style": "",\
            "layout": "IPY_MODEL_71ed84a4677b48fba26fc3b17bc8acca",\
            "_model_module": "@jupyter-widgets/controls",\
            "children": [\
              "IPY_MODEL_52c2bbfac3f54f1d9aab9191b2537467",\
              "IPY_MODEL_0412a9b20d9c49db88f8f4c2b40e1d04"\
            ]\
          \},\
          "model_module_version": "1.5.0"\
        \},\
        "71ed84a4677b48fba26fc3b17bc8acca": \{\
          "model_module": "@jupyter-widgets/base",\
          "model_name": "LayoutModel",\
          "state": \{\
            "_view_name": "LayoutView",\
            "grid_template_rows": null,\
            "right": null,\
            "justify_content": null,\
            "_view_module": "@jupyter-widgets/base",\
            "overflow": null,\
            "_model_module_version": "1.2.0",\
            "_view_count": null,\
            "flex_flow": null,\
            "width": null,\
            "min_width": null,\
            "border": null,\
            "align_items": null,\
            "bottom": null,\
            "_model_module": "@jupyter-widgets/base",\
            "top": null,\
            "grid_column": null,\
            "overflow_y": null,\
            "overflow_x": null,\
            "grid_auto_flow": null,\
            "grid_area": null,\
            "grid_template_columns": null,\
            "flex": null,\
            "_model_name": "LayoutModel",\
            "justify_items": null,\
            "grid_row": null,\
            "max_height": null,\
            "align_content": null,\
            "visibility": null,\
            "align_self": null,\
            "height": null,\
            "min_height": null,\
            "padding": null,\
            "grid_auto_rows": null,\
            "grid_gap": null,\
            "max_width": null,\
            "order": null,\
            "_view_module_version": "1.2.0",\
            "grid_template_areas": null,\
            "object_position": null,\
            "object_fit": null,\
            "grid_auto_columns": null,\
            "margin": null,\
            "display": null,\
            "left": null\
          \},\
          "model_module_version": "1.2.0"\
        \},\
        "52c2bbfac3f54f1d9aab9191b2537467": \{\
          "model_module": "@jupyter-widgets/controls",\
          "model_name": "IntProgressModel",\
          "state": \{\
            "_view_name": "ProgressView",\
            "style": "IPY_MODEL_0ca9fdf094a64a0ebb4fafbfe75c54b0",\
            "_dom_classes": [],\
            "description": "",\
            "_model_name": "IntProgressModel",\
            "bar_style": "success",\
            "max": 1,\
            "_view_module": "@jupyter-widgets/controls",\
            "_model_module_version": "1.5.0",\
            "value": 1,\
            "_view_count": null,\
            "_view_module_version": "1.5.0",\
            "orientation": "horizontal",\
            "min": 0,\
            "description_tooltip": null,\
            "_model_module": "@jupyter-widgets/controls",\
            "layout": "IPY_MODEL_8135c6af45aa4bb88ab45706798de889"\
          \},\
          "model_module_version": "1.5.0"\
        \},\
        "0412a9b20d9c49db88f8f4c2b40e1d04": \{\
          "model_module": "@jupyter-widgets/controls",\
          "model_name": "HTMLModel",\
          "state": \{\
            "_view_name": "HTMLView",\
            "style": "IPY_MODEL_526b5b1f93114701bc9492234fdb9a9c",\
            "_dom_classes": [],\
            "description": "",\
            "_model_name": "HTMLModel",\
            "placeholder": "\uc0\u8203 ",\
            "_view_module": "@jupyter-widgets/controls",\
            "_model_module_version": "1.5.0",\
            "value": "328050it [00:14, 23210.05it/s]",\
            "_view_count": null,\
            "_view_module_version": "1.5.0",\
            "description_tooltip": null,\
            "_model_module": "@jupyter-widgets/controls",\
            "layout": "IPY_MODEL_da9d856c94124b65b2ab85e696d9614e"\
          \},\
          "model_module_version": "1.5.0"\
        \},\
        "0ca9fdf094a64a0ebb4fafbfe75c54b0": \{\
          "model_module": "@jupyter-widgets/controls",\
          "model_name": "ProgressStyleModel",\
          "state": \{\
            "_view_name": "StyleView",\
            "_model_name": "ProgressStyleModel",\
            "description_width": "",\
            "_view_module": "@jupyter-widgets/base",\
            "_model_module_version": "1.5.0",\
            "_view_count": null,\
            "_view_module_version": "1.2.0",\
            "bar_color": null,\
            "_model_module": "@jupyter-widgets/controls"\
          \},\
          "model_module_version": "1.5.0"\
        \},\
        "8135c6af45aa4bb88ab45706798de889": \{\
          "model_module": "@jupyter-widgets/base",\
          "model_name": "LayoutModel",\
          "state": \{\
            "_view_name": "LayoutView",\
            "grid_template_rows": null,\
            "right": null,\
            "justify_content": null,\
            "_view_module": "@jupyter-widgets/base",\
            "overflow": null,\
            "_model_module_version": "1.2.0",\
            "_view_count": null,\
            "flex_flow": null,\
            "width": null,\
            "min_width": null,\
            "border": null,\
            "align_items": null,\
            "bottom": null,\
            "_model_module": "@jupyter-widgets/base",\
            "top": null,\
            "grid_column": null,\
            "overflow_y": null,\
            "overflow_x": null,\
            "grid_auto_flow": null,\
            "grid_area": null,\
            "grid_template_columns": null,\
            "flex": null,\
            "_model_name": "LayoutModel",\
            "justify_items": null,\
            "grid_row": null,\
            "max_height": null,\
            "align_content": null,\
            "visibility": null,\
            "align_self": null,\
            "height": null,\
            "min_height": null,\
            "padding": null,\
            "grid_auto_rows": null,\
            "grid_gap": null,\
            "max_width": null,\
            "order": null,\
            "_view_module_version": "1.2.0",\
            "grid_template_areas": null,\
            "object_position": null,\
            "object_fit": null,\
            "grid_auto_columns": null,\
            "margin": null,\
            "display": null,\
            "left": null\
          \},\
          "model_module_version": "1.2.0"\
        \},\
        "526b5b1f93114701bc9492234fdb9a9c": \{\
          "model_module": "@jupyter-widgets/controls",\
          "model_name": "DescriptionStyleModel",\
          "state": \{\
            "_view_name": "StyleView",\
            "_model_name": "DescriptionStyleModel",\
            "description_width": "",\
            "_view_module": "@jupyter-widgets/base",\
            "_model_module_version": "1.5.0",\
            "_view_count": null,\
            "_view_module_version": "1.2.0",\
            "_model_module": "@jupyter-widgets/controls"\
          \},\
          "model_module_version": "1.5.0"\
        \},\
        "da9d856c94124b65b2ab85e696d9614e": \{\
          "model_module": "@jupyter-widgets/base",\
          "model_name": "LayoutModel",\
          "state": \{\
            "_view_name": "LayoutView",\
            "grid_template_rows": null,\
            "right": null,\
            "justify_content": null,\
            "_view_module": "@jupyter-widgets/base",\
            "overflow": null,\
            "_model_module_version": "1.2.0",\
            "_view_count": null,\
            "flex_flow": null,\
            "width": null,\
            "min_width": null,\
            "border": null,\
            "align_items": null,\
            "bottom": null,\
            "_model_module": "@jupyter-widgets/base",\
            "top": null,\
            "grid_column": null,\
            "overflow_y": null,\
            "overflow_x": null,\
            "grid_auto_flow": null,\
            "grid_area": null,\
            "grid_template_columns": null,\
            "flex": null,\
            "_model_name": "LayoutModel",\
            "justify_items": null,\
            "grid_row": null,\
            "max_height": null,\
            "align_content": null,\
            "visibility": null,\
            "align_self": null,\
            "height": null,\
            "min_height": null,\
            "padding": null,\
            "grid_auto_rows": null,\
            "grid_gap": null,\
            "max_width": null,\
            "order": null,\
            "_view_module_version": "1.2.0",\
            "grid_template_areas": null,\
            "object_position": null,\
            "object_fit": null,\
            "grid_auto_columns": null,\
            "margin": null,\
            "display": null,\
            "left": null\
          \},\
          "model_module_version": "1.2.0"\
        \},\
        "028a13289ba44a3c91cbc4a156d48ebf": \{\
          "model_module": "@jupyter-widgets/controls",\
          "model_name": "HBoxModel",\
          "state": \{\
            "_view_name": "HBoxView",\
            "_dom_classes": [],\
            "_model_name": "HBoxModel",\
            "_view_module": "@jupyter-widgets/controls",\
            "_model_module_version": "1.5.0",\
            "_view_count": null,\
            "_view_module_version": "1.5.0",\
            "box_style": "",\
            "layout": "IPY_MODEL_af2a9ef7e6cb4ca4ba8ca06f895c4073",\
            "_model_module": "@jupyter-widgets/controls",\
            "children": [\
              "IPY_MODEL_41390d622600416a9e575c4457a140cb",\
              "IPY_MODEL_3c0c9382c64047ec9d42eb411c86c90e"\
            ]\
          \},\
          "model_module_version": "1.5.0"\
        \},\
        "af2a9ef7e6cb4ca4ba8ca06f895c4073": \{\
          "model_module": "@jupyter-widgets/base",\
          "model_name": "LayoutModel",\
          "state": \{\
            "_view_name": "LayoutView",\
            "grid_template_rows": null,\
            "right": null,\
            "justify_content": null,\
            "_view_module": "@jupyter-widgets/base",\
            "overflow": null,\
            "_model_module_version": "1.2.0",\
            "_view_count": null,\
            "flex_flow": null,\
            "width": null,\
            "min_width": null,\
            "border": null,\
            "align_items": null,\
            "bottom": null,\
            "_model_module": "@jupyter-widgets/base",\
            "top": null,\
            "grid_column": null,\
            "overflow_y": null,\
            "overflow_x": null,\
            "grid_auto_flow": null,\
            "grid_area": null,\
            "grid_template_columns": null,\
            "flex": null,\
            "_model_name": "LayoutModel",\
            "justify_items": null,\
            "grid_row": null,\
            "max_height": null,\
            "align_content": null,\
            "visibility": null,\
            "align_self": null,\
            "height": null,\
            "min_height": null,\
            "padding": null,\
            "grid_auto_rows": null,\
            "grid_gap": null,\
            "max_width": null,\
            "order": null,\
            "_view_module_version": "1.2.0",\
            "grid_template_areas": null,\
            "object_position": null,\
            "object_fit": null,\
            "grid_auto_columns": null,\
            "margin": null,\
            "display": null,\
            "left": null\
          \},\
          "model_module_version": "1.2.0"\
        \},\
        "41390d622600416a9e575c4457a140cb": \{\
          "model_module": "@jupyter-widgets/controls",\
          "model_name": "IntProgressModel",\
          "state": \{\
            "_view_name": "ProgressView",\
            "style": "IPY_MODEL_5778d1221472452f93392e1f2f91e0e8",\
            "_dom_classes": [],\
            "description": "",\
            "_model_name": "IntProgressModel",\
            "bar_style": "success",\
            "max": 100,\
            "_view_module": "@jupyter-widgets/controls",\
            "_model_module_version": "1.5.0",\
            "value": 100,\
            "_view_count": null,\
            "_view_module_version": "1.5.0",\
            "orientation": "horizontal",\
            "min": 0,\
            "description_tooltip": null,\
            "_model_module": "@jupyter-widgets/controls",\
            "layout": "IPY_MODEL_0d052c24a0394e16870a0ddfc08c3f4f"\
          \},\
          "model_module_version": "1.5.0"\
        \},\
        "3c0c9382c64047ec9d42eb411c86c90e": \{\
          "model_module": "@jupyter-widgets/controls",\
          "model_name": "HTMLModel",\
          "state": \{\
            "_view_name": "HTMLView",\
            "style": "IPY_MODEL_169c507c79894f87a655260816b8c72a",\
            "_dom_classes": [],\
            "description": "",\
            "_model_name": "HTMLModel",\
            "placeholder": "\uc0\u8203 ",\
            "_view_module": "@jupyter-widgets/controls",\
            "_model_module_version": "1.5.0",\
            "value": "100% 100/100 [00:04&lt;00:00, 21.64it/s]",\
            "_view_count": null,\
            "_view_module_version": "1.5.0",\
            "description_tooltip": null,\
            "_model_module": "@jupyter-widgets/controls",\
            "layout": "IPY_MODEL_9d2bbec57cfe41db8a58d86ed407cf2c"\
          \},\
          "model_module_version": "1.5.0"\
        \},\
        "5778d1221472452f93392e1f2f91e0e8": \{\
          "model_module": "@jupyter-widgets/controls",\
          "model_name": "ProgressStyleModel",\
          "state": \{\
            "_view_name": "StyleView",\
            "_model_name": "ProgressStyleModel",\
            "description_width": "",\
            "_view_module": "@jupyter-widgets/base",\
            "_model_module_version": "1.5.0",\
            "_view_count": null,\
            "_view_module_version": "1.2.0",\
            "bar_color": null,\
            "_model_module": "@jupyter-widgets/controls"\
          \},\
          "model_module_version": "1.5.0"\
        \},\
        "0d052c24a0394e16870a0ddfc08c3f4f": \{\
          "model_module": "@jupyter-widgets/base",\
          "model_name": "LayoutModel",\
          "state": \{\
            "_view_name": "LayoutView",\
            "grid_template_rows": null,\
            "right": null,\
            "justify_content": null,\
            "_view_module": "@jupyter-widgets/base",\
            "overflow": null,\
            "_model_module_version": "1.2.0",\
            "_view_count": null,\
            "flex_flow": null,\
            "width": null,\
            "min_width": null,\
            "border": null,\
            "align_items": null,\
            "bottom": null,\
            "_model_module": "@jupyter-widgets/base",\
            "top": null,\
            "grid_column": null,\
            "overflow_y": null,\
            "overflow_x": null,\
            "grid_auto_flow": null,\
            "grid_area": null,\
            "grid_template_columns": null,\
            "flex": null,\
            "_model_name": "LayoutModel",\
            "justify_items": null,\
            "grid_row": null,\
            "max_height": null,\
            "align_content": null,\
            "visibility": null,\
            "align_self": null,\
            "height": null,\
            "min_height": null,\
            "padding": null,\
            "grid_auto_rows": null,\
            "grid_gap": null,\
            "max_width": null,\
            "order": null,\
            "_view_module_version": "1.2.0",\
            "grid_template_areas": null,\
            "object_position": null,\
            "object_fit": null,\
            "grid_auto_columns": null,\
            "margin": null,\
            "display": null,\
            "left": null\
          \},\
          "model_module_version": "1.2.0"\
        \},\
        "169c507c79894f87a655260816b8c72a": \{\
          "model_module": "@jupyter-widgets/controls",\
          "model_name": "DescriptionStyleModel",\
          "state": \{\
            "_view_name": "StyleView",\
            "_model_name": "DescriptionStyleModel",\
            "description_width": "",\
            "_view_module": "@jupyter-widgets/base",\
            "_model_module_version": "1.5.0",\
            "_view_count": null,\
            "_view_module_version": "1.2.0",\
            "_model_module": "@jupyter-widgets/controls"\
          \},\
          "model_module_version": "1.5.0"\
        \},\
        "9d2bbec57cfe41db8a58d86ed407cf2c": \{\
          "model_module": "@jupyter-widgets/base",\
          "model_name": "LayoutModel",\
          "state": \{\
            "_view_name": "LayoutView",\
            "grid_template_rows": null,\
            "right": null,\
            "justify_content": null,\
            "_view_module": "@jupyter-widgets/base",\
            "overflow": null,\
            "_model_module_version": "1.2.0",\
            "_view_count": null,\
            "flex_flow": null,\
            "width": null,\
            "min_width": null,\
            "border": null,\
            "align_items": null,\
            "bottom": null,\
            "_model_module": "@jupyter-widgets/base",\
            "top": null,\
            "grid_column": null,\
            "overflow_y": null,\
            "overflow_x": null,\
            "grid_auto_flow": null,\
            "grid_area": null,\
            "grid_template_columns": null,\
            "flex": null,\
            "_model_name": "LayoutModel",\
            "justify_items": null,\
            "grid_row": null,\
            "max_height": null,\
            "align_content": null,\
            "visibility": null,\
            "align_self": null,\
            "height": null,\
            "min_height": null,\
            "padding": null,\
            "grid_auto_rows": null,\
            "grid_gap": null,\
            "max_width": null,\
            "order": null,\
            "_view_module_version": "1.2.0",\
            "grid_template_areas": null,\
            "object_position": null,\
            "object_fit": null,\
            "grid_auto_columns": null,\
            "margin": null,\
            "display": null,\
            "left": null\
          \},\
          "model_module_version": "1.2.0"\
        \},\
        "a6763c885baf4b7ab714513360827ecb": \{\
          "model_module": "@jupyter-widgets/controls",\
          "model_name": "HBoxModel",\
          "state": \{\
            "_view_name": "HBoxView",\
            "_dom_classes": [],\
            "_model_name": "HBoxModel",\
            "_view_module": "@jupyter-widgets/controls",\
            "_model_module_version": "1.5.0",\
            "_view_count": null,\
            "_view_module_version": "1.5.0",\
            "box_style": "",\
            "layout": "IPY_MODEL_de01891a2d2b4180ae60e1cf923093f7",\
            "_model_module": "@jupyter-widgets/controls",\
            "children": [\
              "IPY_MODEL_82e85c2a421e474fb5a3f5f877d37891",\
              "IPY_MODEL_3c9f36e7d2c04ee893582c970a0c43ee"\
            ]\
          \},\
          "model_module_version": "1.5.0"\
        \},\
        "de01891a2d2b4180ae60e1cf923093f7": \{\
          "model_module": "@jupyter-widgets/base",\
          "model_name": "LayoutModel",\
          "state": \{\
            "_view_name": "LayoutView",\
            "grid_template_rows": null,\
            "right": null,\
            "justify_content": null,\
            "_view_module": "@jupyter-widgets/base",\
            "overflow": null,\
            "_model_module_version": "1.2.0",\
            "_view_count": null,\
            "flex_flow": null,\
            "width": null,\
            "min_width": null,\
            "border": null,\
            "align_items": null,\
            "bottom": null,\
            "_model_module": "@jupyter-widgets/base",\
            "top": null,\
            "grid_column": null,\
            "overflow_y": null,\
            "overflow_x": null,\
            "grid_auto_flow": null,\
            "grid_area": null,\
            "grid_template_columns": null,\
            "flex": null,\
            "_model_name": "LayoutModel",\
            "justify_items": null,\
            "grid_row": null,\
            "max_height": null,\
            "align_content": null,\
            "visibility": null,\
            "align_self": null,\
            "height": null,\
            "min_height": null,\
            "padding": null,\
            "grid_auto_rows": null,\
            "grid_gap": null,\
            "max_width": null,\
            "order": null,\
            "_view_module_version": "1.2.0",\
            "grid_template_areas": null,\
            "object_position": null,\
            "object_fit": null,\
            "grid_auto_columns": null,\
            "margin": null,\
            "display": null,\
            "left": null\
          \},\
          "model_module_version": "1.2.0"\
        \},\
        "82e85c2a421e474fb5a3f5f877d37891": \{\
          "model_module": "@jupyter-widgets/controls",\
          "model_name": "IntProgressModel",\
          "state": \{\
            "_view_name": "ProgressView",\
            "style": "IPY_MODEL_d32f94b5e4d04827a1715b6d0ae37f98",\
            "_dom_classes": [],\
            "description": "",\
            "_model_name": "IntProgressModel",\
            "bar_style": "success",\
            "max": 100,\
            "_view_module": "@jupyter-widgets/controls",\
            "_model_module_version": "1.5.0",\
            "value": 100,\
            "_view_count": null,\
            "_view_module_version": "1.5.0",\
            "orientation": "horizontal",\
            "min": 0,\
            "description_tooltip": null,\
            "_model_module": "@jupyter-widgets/controls",\
            "layout": "IPY_MODEL_77f669410d004b59a0fba921bf05ea7e"\
          \},\
          "model_module_version": "1.5.0"\
        \},\
        "3c9f36e7d2c04ee893582c970a0c43ee": \{\
          "model_module": "@jupyter-widgets/controls",\
          "model_name": "HTMLModel",\
          "state": \{\
            "_view_name": "HTMLView",\
            "style": "IPY_MODEL_1bbf120ae1474e92adb2a8e59929021f",\
            "_dom_classes": [],\
            "description": "",\
            "_model_name": "HTMLModel",\
            "placeholder": "\uc0\u8203 ",\
            "_view_module": "@jupyter-widgets/controls",\
            "_model_module_version": "1.5.0",\
            "value": "100% 100/100 [00:00&lt;00:00, 555.57it/s]",\
            "_view_count": null,\
            "_view_module_version": "1.5.0",\
            "description_tooltip": null,\
            "_model_module": "@jupyter-widgets/controls",\
            "layout": "IPY_MODEL_7635a36c9c8a4bf0a67e86bc83b8395d"\
          \},\
          "model_module_version": "1.5.0"\
        \},\
        "d32f94b5e4d04827a1715b6d0ae37f98": \{\
          "model_module": "@jupyter-widgets/controls",\
          "model_name": "ProgressStyleModel",\
          "state": \{\
            "_view_name": "StyleView",\
            "_model_name": "ProgressStyleModel",\
            "description_width": "",\
            "_view_module": "@jupyter-widgets/base",\
            "_model_module_version": "1.5.0",\
            "_view_count": null,\
            "_view_module_version": "1.2.0",\
            "bar_color": null,\
            "_model_module": "@jupyter-widgets/controls"\
          \},\
          "model_module_version": "1.5.0"\
        \},\
        "77f669410d004b59a0fba921bf05ea7e": \{\
          "model_module": "@jupyter-widgets/base",\
          "model_name": "LayoutModel",\
          "state": \{\
            "_view_name": "LayoutView",\
            "grid_template_rows": null,\
            "right": null,\
            "justify_content": null,\
            "_view_module": "@jupyter-widgets/base",\
            "overflow": null,\
            "_model_module_version": "1.2.0",\
            "_view_count": null,\
            "flex_flow": null,\
            "width": null,\
            "min_width": null,\
            "border": null,\
            "align_items": null,\
            "bottom": null,\
            "_model_module": "@jupyter-widgets/base",\
            "top": null,\
            "grid_column": null,\
            "overflow_y": null,\
            "overflow_x": null,\
            "grid_auto_flow": null,\
            "grid_area": null,\
            "grid_template_columns": null,\
            "flex": null,\
            "_model_name": "LayoutModel",\
            "justify_items": null,\
            "grid_row": null,\
            "max_height": null,\
            "align_content": null,\
            "visibility": null,\
            "align_self": null,\
            "height": null,\
            "min_height": null,\
            "padding": null,\
            "grid_auto_rows": null,\
            "grid_gap": null,\
            "max_width": null,\
            "order": null,\
            "_view_module_version": "1.2.0",\
            "grid_template_areas": null,\
            "object_position": null,\
            "object_fit": null,\
            "grid_auto_columns": null,\
            "margin": null,\
            "display": null,\
            "left": null\
          \},\
          "model_module_version": "1.2.0"\
        \},\
        "1bbf120ae1474e92adb2a8e59929021f": \{\
          "model_module": "@jupyter-widgets/controls",\
          "model_name": "DescriptionStyleModel",\
          "state": \{\
            "_view_name": "StyleView",\
            "_model_name": "DescriptionStyleModel",\
            "description_width": "",\
            "_view_module": "@jupyter-widgets/base",\
            "_model_module_version": "1.5.0",\
            "_view_count": null,\
            "_view_module_version": "1.2.0",\
            "_model_module": "@jupyter-widgets/controls"\
          \},\
          "model_module_version": "1.5.0"\
        \},\
        "7635a36c9c8a4bf0a67e86bc83b8395d": \{\
          "model_module": "@jupyter-widgets/base",\
          "model_name": "LayoutModel",\
          "state": \{\
            "_view_name": "LayoutView",\
            "grid_template_rows": null,\
            "right": null,\
            "justify_content": null,\
            "_view_module": "@jupyter-widgets/base",\
            "overflow": null,\
            "_model_module_version": "1.2.0",\
            "_view_count": null,\
            "flex_flow": null,\
            "width": null,\
            "min_width": null,\
            "border": null,\
            "align_items": null,\
            "bottom": null,\
            "_model_module": "@jupyter-widgets/base",\
            "top": null,\
            "grid_column": null,\
            "overflow_y": null,\
            "overflow_x": null,\
            "grid_auto_flow": null,\
            "grid_area": null,\
            "grid_template_columns": null,\
            "flex": null,\
            "_model_name": "LayoutModel",\
            "justify_items": null,\
            "grid_row": null,\
            "max_height": null,\
            "align_content": null,\
            "visibility": null,\
            "align_self": null,\
            "height": null,\
            "min_height": null,\
            "padding": null,\
            "grid_auto_rows": null,\
            "grid_gap": null,\
            "max_width": null,\
            "order": null,\
            "_view_module_version": "1.2.0",\
            "grid_template_areas": null,\
            "object_position": null,\
            "object_fit": null,\
            "grid_auto_columns": null,\
            "margin": null,\
            "display": null,\
            "left": null\
          \},\
          "model_module_version": "1.2.0"\
        \},\
        "6312f1ab743241e9894fa541da245490": \{\
          "model_module": "@jupyter-widgets/controls",\
          "model_name": "HBoxModel",\
          "state": \{\
            "_view_name": "HBoxView",\
            "_dom_classes": [],\
            "_model_name": "HBoxModel",\
            "_view_module": "@jupyter-widgets/controls",\
            "_model_module_version": "1.5.0",\
            "_view_count": null,\
            "_view_module_version": "1.5.0",\
            "box_style": "",\
            "layout": "IPY_MODEL_b7b0d83f38e2443f89fda8cb28769b4b",\
            "_model_module": "@jupyter-widgets/controls",\
            "children": [\
              "IPY_MODEL_61d86b63246c4613aa2f4c89b6cc768a",\
              "IPY_MODEL_c240a90402524f6ca83f5d86f2a457ef"\
            ]\
          \},\
          "model_module_version": "1.5.0"\
        \},\
        "b7b0d83f38e2443f89fda8cb28769b4b": \{\
          "model_module": "@jupyter-widgets/base",\
          "model_name": "LayoutModel",\
          "state": \{\
            "_view_name": "LayoutView",\
            "grid_template_rows": null,\
            "right": null,\
            "justify_content": null,\
            "_view_module": "@jupyter-widgets/base",\
            "overflow": null,\
            "_model_module_version": "1.2.0",\
            "_view_count": null,\
            "flex_flow": null,\
            "width": null,\
            "min_width": null,\
            "border": null,\
            "align_items": null,\
            "bottom": null,\
            "_model_module": "@jupyter-widgets/base",\
            "top": null,\
            "grid_column": null,\
            "overflow_y": null,\
            "overflow_x": null,\
            "grid_auto_flow": null,\
            "grid_area": null,\
            "grid_template_columns": null,\
            "flex": null,\
            "_model_name": "LayoutModel",\
            "justify_items": null,\
            "grid_row": null,\
            "max_height": null,\
            "align_content": null,\
            "visibility": null,\
            "align_self": null,\
            "height": null,\
            "min_height": null,\
            "padding": null,\
            "grid_auto_rows": null,\
            "grid_gap": null,\
            "max_width": null,\
            "order": null,\
            "_view_module_version": "1.2.0",\
            "grid_template_areas": null,\
            "object_position": null,\
            "object_fit": null,\
            "grid_auto_columns": null,\
            "margin": null,\
            "display": null,\
            "left": null\
          \},\
          "model_module_version": "1.2.0"\
        \},\
        "61d86b63246c4613aa2f4c89b6cc768a": \{\
          "model_module": "@jupyter-widgets/controls",\
          "model_name": "IntProgressModel",\
          "state": \{\
            "_view_name": "ProgressView",\
            "style": "IPY_MODEL_35e5863e600d44f29d48ef64be60cdfb",\
            "_dom_classes": [],\
            "description": "",\
            "_model_name": "IntProgressModel",\
            "bar_style": "success",\
            "max": 1,\
            "_view_module": "@jupyter-widgets/controls",\
            "_model_module_version": "1.5.0",\
            "value": 1,\
            "_view_count": null,\
            "_view_module_version": "1.5.0",\
            "orientation": "horizontal",\
            "min": 0,\
            "description_tooltip": null,\
            "_model_module": "@jupyter-widgets/controls",\
            "layout": "IPY_MODEL_eb87b113a28d47828fd52723c2c7b9c6"\
          \},\
          "model_module_version": "1.5.0"\
        \},\
        "c240a90402524f6ca83f5d86f2a457ef": \{\
          "model_module": "@jupyter-widgets/controls",\
          "model_name": "HTMLModel",\
          "state": \{\
            "_view_name": "HTMLView",\
            "style": "IPY_MODEL_aed814fc11584e9192c137ee6d48c2ff",\
            "_dom_classes": [],\
            "description": "",\
            "_model_name": "HTMLModel",\
            "placeholder": "\uc0\u8203 ",\
            "_view_module": "@jupyter-widgets/controls",\
            "_model_module_version": "1.5.0",\
            "value": "42977it [01:06, 642.28it/s]",\
            "_view_count": null,\
            "_view_module_version": "1.5.0",\
            "description_tooltip": null,\
            "_model_module": "@jupyter-widgets/controls",\
            "layout": "IPY_MODEL_d930ce01a7e0446984f2ce9f0845df8b"\
          \},\
          "model_module_version": "1.5.0"\
        \},\
        "35e5863e600d44f29d48ef64be60cdfb": \{\
          "model_module": "@jupyter-widgets/controls",\
          "model_name": "ProgressStyleModel",\
          "state": \{\
            "_view_name": "StyleView",\
            "_model_name": "ProgressStyleModel",\
            "description_width": "",\
            "_view_module": "@jupyter-widgets/base",\
            "_model_module_version": "1.5.0",\
            "_view_count": null,\
            "_view_module_version": "1.2.0",\
            "bar_color": null,\
            "_model_module": "@jupyter-widgets/controls"\
          \},\
          "model_module_version": "1.5.0"\
        \},\
        "eb87b113a28d47828fd52723c2c7b9c6": \{\
          "model_module": "@jupyter-widgets/base",\
          "model_name": "LayoutModel",\
          "state": \{\
            "_view_name": "LayoutView",\
            "grid_template_rows": null,\
            "right": null,\
            "justify_content": null,\
            "_view_module": "@jupyter-widgets/base",\
            "overflow": null,\
            "_model_module_version": "1.2.0",\
            "_view_count": null,\
            "flex_flow": null,\
            "width": null,\
            "min_width": null,\
            "border": null,\
            "align_items": null,\
            "bottom": null,\
            "_model_module": "@jupyter-widgets/base",\
            "top": null,\
            "grid_column": null,\
            "overflow_y": null,\
            "overflow_x": null,\
            "grid_auto_flow": null,\
            "grid_area": null,\
            "grid_template_columns": null,\
            "flex": null,\
            "_model_name": "LayoutModel",\
            "justify_items": null,\
            "grid_row": null,\
            "max_height": null,\
            "align_content": null,\
            "visibility": null,\
            "align_self": null,\
            "height": null,\
            "min_height": null,\
            "padding": null,\
            "grid_auto_rows": null,\
            "grid_gap": null,\
            "max_width": null,\
            "order": null,\
            "_view_module_version": "1.2.0",\
            "grid_template_areas": null,\
            "object_position": null,\
            "object_fit": null,\
            "grid_auto_columns": null,\
            "margin": null,\
            "display": null,\
            "left": null\
          \},\
          "model_module_version": "1.2.0"\
        \},\
        "aed814fc11584e9192c137ee6d48c2ff": \{\
          "model_module": "@jupyter-widgets/controls",\
          "model_name": "DescriptionStyleModel",\
          "state": \{\
            "_view_name": "StyleView",\
            "_model_name": "DescriptionStyleModel",\
            "description_width": "",\
            "_view_module": "@jupyter-widgets/base",\
            "_model_module_version": "1.5.0",\
            "_view_count": null,\
            "_view_module_version": "1.2.0",\
            "_model_module": "@jupyter-widgets/controls"\
          \},\
          "model_module_version": "1.5.0"\
        \},\
        "d930ce01a7e0446984f2ce9f0845df8b": \{\
          "model_module": "@jupyter-widgets/base",\
          "model_name": "LayoutModel",\
          "state": \{\
            "_view_name": "LayoutView",\
            "grid_template_rows": null,\
            "right": null,\
            "justify_content": null,\
            "_view_module": "@jupyter-widgets/base",\
            "overflow": null,\
            "_model_module_version": "1.2.0",\
            "_view_count": null,\
            "flex_flow": null,\
            "width": null,\
            "min_width": null,\
            "border": null,\
            "align_items": null,\
            "bottom": null,\
            "_model_module": "@jupyter-widgets/base",\
            "top": null,\
            "grid_column": null,\
            "overflow_y": null,\
            "overflow_x": null,\
            "grid_auto_flow": null,\
            "grid_area": null,\
            "grid_template_columns": null,\
            "flex": null,\
            "_model_name": "LayoutModel",\
            "justify_items": null,\
            "grid_row": null,\
            "max_height": null,\
            "align_content": null,\
            "visibility": null,\
            "align_self": null,\
            "height": null,\
            "min_height": null,\
            "padding": null,\
            "grid_auto_rows": null,\
            "grid_gap": null,\
            "max_width": null,\
            "order": null,\
            "_view_module_version": "1.2.0",\
            "grid_template_areas": null,\
            "object_position": null,\
            "object_fit": null,\
            "grid_auto_columns": null,\
            "margin": null,\
            "display": null,\
            "left": null\
          \},\
          "model_module_version": "1.2.0"\
        \}\
      \}\
    \}\
  \},\
  "cells": [\
    \{\
      "cell_type": "code",\
      "metadata": \{\
        "id": "6aUD-eMz7d_l",\
        "outputId": "557e2dfa-0cc7-469f-a5c2-e076a257aa9d",\
        "colab": \{\
          "base_uri": "https://localhost:8080/",\
          "height": 510\
        \}\
      \},\
      "source": [\
        "import math\\n",\
        "import os\\n",\
        "import heapq\\n",\
        "import scipy.sparse as sp\\n",\
        "import multiprocessing\\n",\
        "from six.moves import xrange\\n",\
        "import json\\n",\
        "\\n",\
        "import string\\n",\
        "from string import punctuation\\n",\
        "\\n",\
        "from time import time\\n",\
        "import sys\\n",\
        "\\n",\
        "!pip install pymorphy2\\n",\
        "from pymorphy2 import MorphAnalyzer\\n",\
        "\\n",\
        "import numpy as np\\n",\
        "import pandas as pd\\n",\
        "from tqdm.auto import tqdm\\n",\
        "\\n",\
        "import nltk\\n",\
        "from nltk.corpus import stopwords\\n",\
        "\\n",\
        "%tensorflow_version 2.x\\n",\
        "import tensorflow as tf\\n",\
        "from sklearn.feature_extraction.text import TfidfVectorizer\\n",\
        "\\n",\
        "!pip install lightfm\\n",\
        "from lightfm import LightFM"\
      ],\
      "execution_count": null,\
      "outputs": [\
        \{\
          "output_type": "stream",\
          "text": [\
            "Collecting pymorphy2\\n",\
            "\\u001b[?25l  Downloading https://files.pythonhosted.org/packages/a3/33/fff9675c68b5f6c63ec8c6e6ff57827dda28a1fa5b2c2d727dffff92dd47/pymorphy2-0.8-py2.py3-none-any.whl (46kB)\\n",\
            "\\r\\u001b[K     |
\f1 \uc0\u9608 \u9608 \u9608 \u9608 \u9608 \u9608 \u9608 
\f0                          | 10kB 23.0MB/s eta 0:00:01\\r\\u001b[K     |
\f1 \uc0\u9608 \u9608 \u9608 \u9608 \u9608 \u9608 \u9608 \u9608 \u9608 \u9608 \u9608 \u9608 \u9608 \u9608 \u9615 
\f0                  | 20kB 30.3MB/s eta 0:00:01\\r\\u001b[K     |
\f1 \uc0\u9608 \u9608 \u9608 \u9608 \u9608 \u9608 \u9608 \u9608 \u9608 \u9608 \u9608 \u9608 \u9608 \u9608 \u9608 \u9608 \u9608 \u9608 \u9608 \u9608 \u9608 \u9614 
\f0           | 30kB 36.4MB/s eta 0:00:01\\r\\u001b[K     |
\f1 \uc0\u9608 \u9608 \u9608 \u9608 \u9608 \u9608 \u9608 \u9608 \u9608 \u9608 \u9608 \u9608 \u9608 \u9608 \u9608 \u9608 \u9608 \u9608 \u9608 \u9608 \u9608 \u9608 \u9608 \u9608 \u9608 \u9608 \u9608 \u9608 \u9613 
\f0    | 40kB 40.7MB/s eta 0:00:01\\r\\u001b[K     |
\f1 \uc0\u9608 \u9608 \u9608 \u9608 \u9608 \u9608 \u9608 \u9608 \u9608 \u9608 \u9608 \u9608 \u9608 \u9608 \u9608 \u9608 \u9608 \u9608 \u9608 \u9608 \u9608 \u9608 \u9608 \u9608 \u9608 \u9608 \u9608 \u9608 \u9608 \u9608 \u9608 \u9608 
\f0 | 51kB 9.5MB/s \\n",\
            "\\u001b[?25hRequirement already satisfied: docopt>=0.6 in /usr/local/lib/python3.6/dist-packages (from pymorphy2) (0.6.2)\\n",\
            "Collecting pymorphy2-dicts<3.0,>=2.4\\n",\
            "\\u001b[?25l  Downloading https://files.pythonhosted.org/packages/02/51/2465fd4f72328ab50877b54777764d928da8cb15b74e2680fc1bd8cb3173/pymorphy2_dicts-2.4.393442.3710985-py2.py3-none-any.whl (7.1MB)\\n",\
            "\\u001b[K     |
\f1 \uc0\u9608 \u9608 \u9608 \u9608 \u9608 \u9608 \u9608 \u9608 \u9608 \u9608 \u9608 \u9608 \u9608 \u9608 \u9608 \u9608 \u9608 \u9608 \u9608 \u9608 \u9608 \u9608 \u9608 \u9608 \u9608 \u9608 \u9608 \u9608 \u9608 \u9608 \u9608 \u9608 
\f0 | 7.1MB 9.1MB/s \\n",\
            "\\u001b[?25hCollecting dawg-python>=0.7\\n",\
            "  Downloading https://files.pythonhosted.org/packages/6a/84/ff1ce2071d4c650ec85745766c0047ccc3b5036f1d03559fd46bb38b5eeb/DAWG_Python-0.7.2-py2.py3-none-any.whl\\n",\
            "Installing collected packages: pymorphy2-dicts, dawg-python, pymorphy2\\n",\
            "Successfully installed dawg-python-0.7.2 pymorphy2-0.8 pymorphy2-dicts-2.4.393442.3710985\\n",\
            "TensorFlow 2.x selected.\\n",\
            "Collecting lightfm\\n",\
            "\\u001b[?25l  Downloading https://files.pythonhosted.org/packages/e9/8e/5485ac5a8616abe1c673d1e033e2f232b4319ab95424b42499fabff2257f/lightfm-1.15.tar.gz (302kB)\\n",\
            "\\u001b[K     |
\f1 \uc0\u9608 \u9608 \u9608 \u9608 \u9608 \u9608 \u9608 \u9608 \u9608 \u9608 \u9608 \u9608 \u9608 \u9608 \u9608 \u9608 \u9608 \u9608 \u9608 \u9608 \u9608 \u9608 \u9608 \u9608 \u9608 \u9608 \u9608 \u9608 \u9608 \u9608 \u9608 \u9608 
\f0 | 307kB 33.1MB/s \\n",\
            "\\u001b[?25hRequirement already satisfied: numpy in /tensorflow-2.1.0/python3.6 (from lightfm) (1.18.1)\\n",\
            "Requirement already satisfied: scipy>=0.17.0 in /tensorflow-2.1.0/python3.6 (from lightfm) (1.4.1)\\n",\
            "Requirement already satisfied: requests in /tensorflow-2.1.0/python3.6 (from lightfm) (2.23.0)\\n",\
            "Requirement already satisfied: idna<3,>=2.5 in /tensorflow-2.1.0/python3.6 (from requests->lightfm) (2.9)\\n",\
            "Requirement already satisfied: chardet<4,>=3.0.2 in /tensorflow-2.1.0/python3.6 (from requests->lightfm) (3.0.4)\\n",\
            "Requirement already satisfied: urllib3!=1.25.0,!=1.25.1,<1.26,>=1.21.1 in /tensorflow-2.1.0/python3.6 (from requests->lightfm) (1.25.8)\\n",\
            "Requirement already satisfied: certifi>=2017.4.17 in /tensorflow-2.1.0/python3.6 (from requests->lightfm) (2019.11.28)\\n",\
            "Building wheels for collected packages: lightfm\\n",\
            "  Building wheel for lightfm (setup.py) ... \\u001b[?25l\\u001b[?25hdone\\n",\
            "  Created wheel for lightfm: filename=lightfm-1.15-cp36-cp36m-linux_x86_64.whl size=709138 sha256=d02360adbec55fd4c94fe6cf693870a4991714d31beb3f9bba4a9ff3351caefe\\n",\
            "  Stored in directory: /root/.cache/pip/wheels/eb/bb/ac/188385a5da6627956be5d9663928483b36da576149ab5b8f79\\n",\
            "Successfully built lightfm\\n",\
            "Installing collected packages: lightfm\\n",\
            "Successfully installed lightfm-1.15\\n"\
          ],\
          "name": "stdout"\
        \}\
      ]\
    \},\
    \{\
      "cell_type": "code",\
      "metadata": \{\
        "id": "9Ob-OolJ-y8K",\
        "outputId": "d7186ee5-864d-477e-83c1-fa3437536003",\
        "colab": \{\
          "base_uri": "https://localhost:8080/",\
          "height": 357\
        \}\
      \},\
      "source": [\
        "os.environ['KAGGLE_USERNAME'] = \\"chieph\\"\\n",\
        "os.environ['KAGGLE_KEY'] = \\"c54264512056afd234b61d35efb5aa8e\\"\\n",\
        "\\n",\
        "!kaggle competitions download -c recsys-iad-challenge\\n",\
        "!unzip '*.zip'"\
      ],\
      "execution_count": null,\
      "outputs": [\
        \{\
          "output_type": "stream",\
          "text": [\
            "Warning: Looks like you're using an outdated API Version, please consider updating (server 1.5.6 / client 1.5.4)\\n",\
            "Downloading train.json.zip to /content\\n",\
            " 99% 233M/235M [00:03<00:00, 64.9MB/s]\\n",\
            "100% 235M/235M [00:03<00:00, 72.9MB/s]\\n",\
            "Downloading items.json.zip to /content\\n",\
            " 99% 364M/368M [00:04<00:00, 87.5MB/s]\\n",\
            "100% 368M/368M [00:04<00:00, 82.4MB/s]\\n",\
            "Downloading random_benchmark.csv.zip to /content\\n",\
            " 46% 5.00M/10.9M [00:00<00:00, 27.0MB/s]\\n",\
            "100% 10.9M/10.9M [00:00<00:00, 42.8MB/s]\\n",\
            "Archive:  train.json.zip\\n",\
            "  inflating: train.json              \\n",\
            "\\n",\
            "Archive:  items.json.zip\\n",\
            "  inflating: items.json              \\n",\
            "\\n",\
            "Archive:  random_benchmark.csv.zip\\n",\
            "  inflating: random_benchmark.csv    \\n",\
            "\\n",\
            "3 archives were successfully processed.\\n"\
          ],\
          "name": "stdout"\
        \}\
      ]\
    \},\
    \{\
      "cell_type": "code",\
      "metadata": \{\
        "id": "xP3sOe25JSXe",\
        "outputId": "c01509f3-74f4-41ae-b269-4255c31a6c29",\
        "colab": \{\
          "base_uri": "https://localhost:8080/",\
          "height": 66,\
          "referenced_widgets": [\
            "1f4258d79df74660b498b9946078444a",\
            "71ed84a4677b48fba26fc3b17bc8acca",\
            "52c2bbfac3f54f1d9aab9191b2537467",\
            "0412a9b20d9c49db88f8f4c2b40e1d04",\
            "0ca9fdf094a64a0ebb4fafbfe75c54b0",\
            "8135c6af45aa4bb88ab45706798de889",\
            "526b5b1f93114701bc9492234fdb9a9c",\
            "da9d856c94124b65b2ab85e696d9614e"\
          ]\
        \}\
      \},\
      "source": [\
        "item_ids = []\\n",\
        "images = []\\n",\
        "texts = []\\n",\
        "titles = []\\n",\
        "with tqdm(open('items.json')) as f:\\n",\
        "    for i, line in enumerate(f):\\n",\
        "      item = json.loads(line)\\n",\
        "      item_ids.append(item['itemId'])\\n",\
        "      titles.append(item['title'])\\n",\
        "      if isinstance(item['image'], float):\\n",\
        "        item['image'] = [0 for _ in range(96)]\\n",\
        "      images.append(item['image'])\\n",\
        "      texts.append(item['content'])"\
      ],\
      "execution_count": null,\
      "outputs": [\
        \{\
          "output_type": "display_data",\
          "data": \{\
            "application/vnd.jupyter.widget-view+json": \{\
              "model_id": "1f4258d79df74660b498b9946078444a",\
              "version_minor": 0,\
              "version_major": 2\
            \},\
            "text/plain": [\
              "HBox(children=(IntProgress(value=1, bar_style='info', max=1), HTML(value='')))"\
            ]\
          \},\
          "metadata": \{\
            "tags": []\
          \}\
        \},\
        \{\
          "output_type": "stream",\
          "text": [\
            "\\n"\
          ],\
          "name": "stdout"\
        \}\
      ]\
    \},\
    \{\
      "cell_type": "code",\
      "metadata": \{\
        "id": "v_exryaDzCKm"\
      \},\
      "source": [\
        "rows, cols = [], []\\n",\
        "image_data = []\\n",\
        "for i in range(len(images)):\\n",\
        "  for j in range(len(images[i])):\\n",\
        "    cols.append(j)\\n",\
        "    rows.append(i)\\n",\
        "    image_data.append(images[i][j])"\
      ],\
      "execution_count": null,\
      "outputs": []\
    \},\
    \{\
      "cell_type": "code",\
      "metadata": \{\
        "id": "7dRGq-fvz8w5"\
      \},\
      "source": [\
        "images = sp.coo_matrix((image_data, (rows, cols)))"\
      ],\
      "execution_count": null,\
      "outputs": []\
    \},\
    \{\
      "cell_type": "code",\
      "metadata": \{\
        "id": "nnT1LZNeUqlN"\
      \},\
      "source": [\
        "analyzer = MorphAnalyzer()"\
      ],\
      "execution_count": null,\
      "outputs": []\
    \},\
    \{\
      "cell_type": "code",\
      "metadata": \{\
        "id": "mu1EG9ZQhD5g"\
      \},\
      "source": [\
        "def delete_punctuation(text):\\n",\
        "  translation_table = str.maketrans(' ', ' ', string.punctuation)\\n",\
        "  return text.translate(translation_table).lower()"\
      ],\
      "execution_count": null,\
      "outputs": []\
    \},\
    \{\
      "cell_type": "code",\
      "metadata": \{\
        "id": "iaeCSYZphG8m"\
      \},\
      "source": [\
        "def format_str(text):\\n",\
        "  words = [analyzer.normal_forms(word)[0]\\n",\
        "           for word in delete_punctuation(text).split()]\\n",\
        "  return ' '.join(words)"\
      ],\
      "execution_count": null,\
      "outputs": []\
    \},\
    \{\
      "cell_type": "code",\
      "metadata": \{\
        "id": "agPFzE0hxRuQ",\
        "colab": \{\
          "base_uri": "https://localhost:8080/",\
          "height": 66,\
          "referenced_widgets": [\
            "028a13289ba44a3c91cbc4a156d48ebf",\
            "af2a9ef7e6cb4ca4ba8ca06f895c4073",\
            "41390d622600416a9e575c4457a140cb",\
            "3c0c9382c64047ec9d42eb411c86c90e",\
            "5778d1221472452f93392e1f2f91e0e8",\
            "0d052c24a0394e16870a0ddfc08c3f4f",\
            "169c507c79894f87a655260816b8c72a",\
            "9d2bbec57cfe41db8a58d86ed407cf2c"\
          ]\
        \},\
        "outputId": "292887ee-dedf-49c8-abea-cc6456cd1856"\
      \},\
      "source": [\
        "for i, text in enumerate(tqdm(texts)):\\n",\
        "  texts[i] = format_str(text)"\
      ],\
      "execution_count": null,\
      "outputs": [\
        \{\
          "output_type": "display_data",\
          "data": \{\
            "application/vnd.jupyter.widget-view+json": \{\
              "model_id": "028a13289ba44a3c91cbc4a156d48ebf",\
              "version_minor": 0,\
              "version_major": 2\
            \},\
            "text/plain": [\
              "HBox(children=(IntProgress(value=0), HTML(value='')))"\
            ]\
          \},\
          "metadata": \{\
            "tags": []\
          \}\
        \},\
        \{\
          "output_type": "stream",\
          "text": [\
            "\\n"\
          ],\
          "name": "stdout"\
        \}\
      ]\
    \},\
    \{\
      "cell_type": "code",\
      "metadata": \{\
        "id": "1TuLtESlxbn7",\
        "colab": \{\
          "base_uri": "https://localhost:8080/",\
          "height": 66,\
          "referenced_widgets": [\
            "a6763c885baf4b7ab714513360827ecb",\
            "de01891a2d2b4180ae60e1cf923093f7",\
            "82e85c2a421e474fb5a3f5f877d37891",\
            "3c9f36e7d2c04ee893582c970a0c43ee",\
            "d32f94b5e4d04827a1715b6d0ae37f98",\
            "77f669410d004b59a0fba921bf05ea7e",\
            "1bbf120ae1474e92adb2a8e59929021f",\
            "7635a36c9c8a4bf0a67e86bc83b8395d"\
          ]\
        \},\
        "outputId": "e04ddf8a-a062-451e-9a16-04c00f3fa029"\
      \},\
      "source": [\
        "for i, title in enumerate(tqdm(titles)):\\n",\
        "  titles[i] = format_str(title)"\
      ],\
      "execution_count": null,\
      "outputs": [\
        \{\
          "output_type": "display_data",\
          "data": \{\
            "application/vnd.jupyter.widget-view+json": \{\
              "model_id": "a6763c885baf4b7ab714513360827ecb",\
              "version_minor": 0,\
              "version_major": 2\
            \},\
            "text/plain": [\
              "HBox(children=(IntProgress(value=0), HTML(value='')))"\
            ]\
          \},\
          "metadata": \{\
            "tags": []\
          \}\
        \},\
        \{\
          "output_type": "stream",\
          "text": [\
            "\\n"\
          ],\
          "name": "stdout"\
        \}\
      ]\
    \},\
    \{\
      "cell_type": "code",\
      "metadata": \{\
        "id": "3mtNDgKo8-3E",\
        "outputId": "6e8a4133-13c0-4522-9e96-3b6a22227ec9",\
        "colab": \{\
          "base_uri": "https://localhost:8080/",\
          "height": 68\
        \}\
      \},\
      "source": [\
        "nltk.download('stopwords')"\
      ],\
      "execution_count": null,\
      "outputs": [\
        \{\
          "output_type": "stream",\
          "text": [\
            "[nltk_data] Downloading package stopwords to /root/nltk_data...\\n",\
            "[nltk_data]   Unzipping corpora/stopwords.zip.\\n"\
          ],\
          "name": "stdout"\
        \},\
        \{\
          "output_type": "execute_result",\
          "data": \{\
            "text/plain": [\
              "True"\
            ]\
          \},\
          "metadata": \{\
            "tags": []\
          \},\
          "execution_count": 11\
        \}\
      ]\
    \},\
    \{\
      "cell_type": "code",\
      "metadata": \{\
        "id": "kqSzXJZMhpyQ"\
      \},\
      "source": [\
        "vectorizer = TfidfVectorizer(min_df=5, max_df=0.01, stop_words=stopwords.words('russian'))\\n",\
        "texts = vectorizer.fit_transform(texts)\\n",\
        "titles = vectorizer.fit_transform(titles)"\
      ],\
      "execution_count": null,\
      "outputs": []\
    \},\
    \{\
      "cell_type": "code",\
      "metadata": \{\
        "id": "w0rySSCsZhHc"\
      \},\
      "source": [\
        "features = sp.hstack([texts, titles], format='csr')"\
      ],\
      "execution_count": null,\
      "outputs": []\
    \},\
    \{\
      "cell_type": "code",\
      "metadata": \{\
        "id": "CC0QykWo9NYD",\
        "colab": \{\
          "base_uri": "https://localhost:8080/",\
          "height": 51\
        \},\
        "outputId": "6c0a0afa-7116-4df9-8b8c-9de7510aa558"\
      \},\
      "source": [\
        "features"\
      ],\
      "execution_count": null,\
      "outputs": [\
        \{\
          "output_type": "execute_result",\
          "data": \{\
            "text/plain": [\
              "<328050x363785 sparse matrix of type '<class 'numpy.float64'>'\\n",\
              "\\twith 28839861 stored elements in Compressed Sparse Row format>"\
            ]\
          \},\
          "metadata": \{\
            "tags": []\
          \},\
          "execution_count": 14\
        \}\
      ]\
    \},\
    \{\
      "cell_type": "code",\
      "metadata": \{\
        "id": "ytlPybV7lrG8",\
        "outputId": "135a8a52-9b67-4ebd-e570-2ebb3596e43c",\
        "colab": \{\
          "base_uri": "https://localhost:8080/",\
          "height": 66,\
          "referenced_widgets": [\
            "6312f1ab743241e9894fa541da245490",\
            "b7b0d83f38e2443f89fda8cb28769b4b",\
            "61d86b63246c4613aa2f4c89b6cc768a",\
            "c240a90402524f6ca83f5d86f2a457ef",\
            "35e5863e600d44f29d48ef64be60cdfb",\
            "eb87b113a28d47828fd52723c2c7b9c6",\
            "aed814fc11584e9192c137ee6d48c2ff",\
            "d930ce01a7e0446984f2ce9f0845df8b"\
          ]\
        \}\
      \},\
      "source": [\
        "user_ids = []\\n",\
        "items_ids = []\\n",\
        "ratings = []\\n",\
        "\\n",\
        "with tqdm(open('train.json')) as f:\\n",\
        "    for i, line in enumerate(f):\\n",\
        "        train_line = json.loads(line)\\n",\
        "        for j, (key, value) in enumerate(train_line['trainRatings'].items()):\\n",\
        "          user_ids.append(i)\\n",\
        "          items_ids.append(int(key))\\n",\
        "          if value == 0:\\n",\
        "            ratings.append(-1)\\n",\
        "          else:\\n",\
        "            ratings.append(1)"\
      ],\
      "execution_count": null,\
      "outputs": [\
        \{\
          "output_type": "display_data",\
          "data": \{\
            "application/vnd.jupyter.widget-view+json": \{\
              "model_id": "6312f1ab743241e9894fa541da245490",\
              "version_minor": 0,\
              "version_major": 2\
            \},\
            "text/plain": [\
              "HBox(children=(IntProgress(value=1, bar_style='info', max=1), HTML(value='')))"\
            ]\
          \},\
          "metadata": \{\
            "tags": []\
          \}\
        \},\
        \{\
          "output_type": "stream",\
          "text": [\
            "\\n"\
          ],\
          "name": "stdout"\
        \}\
      ]\
    \},\
    \{\
      "cell_type": "code",\
      "metadata": \{\
        "id": "EukWQQWDCZa9"\
      \},\
      "source": [\
        "interactions = sp.coo_matrix((ratings, (user_ids, items_ids)))"\
      ],\
      "execution_count": null,\
      "outputs": []\
    \},\
    \{\
      "cell_type": "code",\
      "metadata": \{\
        "id": "VoACPp5AbEal"\
      \},\
      "source": [\
        "model = LightFM(no_components=30, random_state=42)"\
      ],\
      "execution_count": null,\
      "outputs": []\
    \},\
    \{\
      "cell_type": "code",\
      "metadata": \{\
        "id": "mK9L9oYqHibz"\
      \},\
      "source": [\
        "model.fit(interactions, item_features=features, verbose=True, num_threads=multiprocessing.cpu_count(), epochs=10)"\
      ],\
      "execution_count": null,\
      "outputs": []\
    \},\
    \{\
      "cell_type": "code",\
      "metadata": \{\
        "id": "ANaCWiea7vAo"\
      \},\
      "source": [\
        "random_benchmark = pd.read_csv('random_benchmark.csv')"\
      ],\
      "execution_count": null,\
      "outputs": []\
    \},\
    \{\
      "cell_type": "code",\
      "metadata": \{\
        "id": "DvyALPYGHrcc"\
      \},\
      "source": [\
        "random_benchmark['probs'] = model.predict(random_benchmark.userId.values, \\n",\
        "                                          random_benchmark.itemId.values, \\n",\
        "                                          item_features=features, \\n",\
        "                                          num_threads=multiprocessing.cpu_count())"\
      ],\
      "execution_count": null,\
      "outputs": []\
    \},\
    \{\
      "cell_type": "code",\
      "metadata": \{\
        "id": "2iPxaQVzhxQQ"\
      \},\
      "source": [\
        "random_benchmark.sort_values([\\"userId\\", \\"probs\\"], ascending=[True, False], inplace=True)\\n",\
        "random_benchmark.drop(columns = ['probs'], inplace=True)\\n",\
        "random_benchmark.to_csv('recsys_sub.csv', index=False)"\
      ],\
      "execution_count": null,\
      "outputs": []\
    \},\
    \{\
      "cell_type": "code",\
      "metadata": \{\
        "id": "NItn1EGYsOXA"\
      \},\
      "source": [\
        "!kaggle competitions submit -c recsys-iad-challenge -f recsys_sub.csv -m message"\
      ],\
      "execution_count": null,\
      "outputs": []\
    \},\
    \{\
      "cell_type": "code",\
      "metadata": \{\
        "id": "MCfUKwwTDGeN"\
      \},\
      "source": [\
        ""\
      ],\
      "execution_count": null,\
      "outputs": []\
    \}\
  ]\
\}}